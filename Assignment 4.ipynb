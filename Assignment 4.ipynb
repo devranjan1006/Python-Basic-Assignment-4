{
 "cells": [
  {
   "cell_type": "markdown",
   "metadata": {},
   "source": [
    "# Assignment 4"
   ]
  },
  {
   "cell_type": "markdown",
   "metadata": {},
   "source": [
    "1. What exactly is []?"
   ]
  },
  {
   "cell_type": "markdown",
   "metadata": {},
   "source": [
    "There is a data structure in python known as list which is a sequence of homogenous or hetrogenous items and can be stored in a single variable. List can be created using '[ ]' and entering the elements to be stored in the list seperated by a comma.\n",
    "\n",
    "for eg:\n",
    "\n",
    "lst = [1, 8, 'dev', 58.5, True]\n",
    "\n",
    "In the above example a list name lst is created which consists of hetrogenous elements."
   ]
  },
  {
   "cell_type": "markdown",
   "metadata": {},
   "source": [
    "2. In a list of values stored in a variable called spam, how would you assign the value 'hello' as the third value? (Assume [2, 4, 6, 8, 10] are in spam.)"
   ]
  },
  {
   "cell_type": "markdown",
   "metadata": {},
   "source": [
    "We will assign the third value as 'hello' using indexing.\n",
    "\n",
    "spam[2] = 'hello'"
   ]
  },
  {
   "cell_type": "markdown",
   "metadata": {},
   "source": [
    "Let's pretend the spam includes the list ['a', 'b', 'c', 'd'] for the next three queries."
   ]
  },
  {
   "cell_type": "markdown",
   "metadata": {},
   "source": [
    "3. What is the value of spam[int(int('3' * 2) / 11)]?"
   ]
  },
  {
   "cell_type": "markdown",
   "metadata": {},
   "source": [
    "It will be 'd' as shown below athe expression inside the square brackets would burn down to 3 and index 3 points to fourth element which is 'd'."
   ]
  },
  {
   "cell_type": "code",
   "execution_count": 1,
   "metadata": {},
   "outputs": [
    {
     "data": {
      "text/plain": [
       "'d'"
      ]
     },
     "execution_count": 1,
     "metadata": {},
     "output_type": "execute_result"
    }
   ],
   "source": [
    "spam = ['a', 'b', 'c', 'd']\n",
    "spam[int(int('3' * 2) / 11)]"
   ]
  },
  {
   "cell_type": "markdown",
   "metadata": {},
   "source": [
    "4. What is the value of spam[-1]?"
   ]
  },
  {
   "cell_type": "markdown",
   "metadata": {},
   "source": [
    "It will be 'd' as -1 points to first element in the reverse order. This can be seen as under."
   ]
  },
  {
   "cell_type": "code",
   "execution_count": 2,
   "metadata": {},
   "outputs": [
    {
     "data": {
      "text/plain": [
       "'d'"
      ]
     },
     "execution_count": 2,
     "metadata": {},
     "output_type": "execute_result"
    }
   ],
   "source": [
    "spam[-1]"
   ]
  },
  {
   "cell_type": "markdown",
   "metadata": {},
   "source": [
    "5. What is the value of spam[:2]?"
   ]
  },
  {
   "cell_type": "markdown",
   "metadata": {},
   "source": [
    "The value of the above expression will give elements of spam starting from 0th index upto 2nd index excluding the 2nd index. Hence the result will be ['a', 'b'] as shown below."
   ]
  },
  {
   "cell_type": "code",
   "execution_count": 3,
   "metadata": {},
   "outputs": [
    {
     "data": {
      "text/plain": [
       "['a', 'b']"
      ]
     },
     "execution_count": 3,
     "metadata": {},
     "output_type": "execute_result"
    }
   ],
   "source": [
    "spam[:2]"
   ]
  },
  {
   "cell_type": "markdown",
   "metadata": {},
   "source": [
    "Let's pretend bacon has the list [3.14, 'cat,' 11, 'cat,' True] for the next three questions."
   ]
  },
  {
   "cell_type": "code",
   "execution_count": 6,
   "metadata": {},
   "outputs": [],
   "source": [
    "bacon = [3.14, 'cat', 11, 'cat', True]"
   ]
  },
  {
   "cell_type": "markdown",
   "metadata": {},
   "source": [
    "6. What is the value of bacon.index('cat')?"
   ]
  },
  {
   "cell_type": "markdown",
   "metadata": {},
   "source": [
    "The above expression will return the index of first occurance of the element 'cat'. Hence it will retun the value 1 as cat is present at index 1 in the list."
   ]
  },
  {
   "cell_type": "markdown",
   "metadata": {},
   "source": [
    "7. How does bacon.append(99) change the look of the list value in bacon?"
   ]
  },
  {
   "cell_type": "markdown",
   "metadata": {},
   "source": [
    "The above expression will just add the element 99 at the end of the list and the resulting list will look like [3.14, 'cat', 11, 'cat', True, 99]"
   ]
  },
  {
   "cell_type": "markdown",
   "metadata": {},
   "source": [
    "8. How does bacon.remove('cat') change the look of the list in bacon?"
   ]
  },
  {
   "cell_type": "markdown",
   "metadata": {},
   "source": [
    "The above expression will remove the element 'cat' from the place where it is first occured and the resulting list will look like  [3.14, 11, 'cat', True, 99]."
   ]
  },
  {
   "cell_type": "markdown",
   "metadata": {},
   "source": [
    "9. What are the list concatenation and list replication operators?"
   ]
  },
  {
   "cell_type": "markdown",
   "metadata": {},
   "source": [
    "List concatenation operators will concatenate or join two or more list one after the other. '+' is a concatenation operator.\n",
    "\n",
    "for eg:\n",
    "\n",
    "a = [1,4,7,8,9]\n",
    "\n",
    "b = [5,2,6,3]\n",
    "\n",
    "c = a + b\n",
    "\n",
    "The above expression will concatenate the two lists a and b and store the result [1,4,7,8,9,5,2,6,3] in c.\n",
    "\n",
    "List replication operator will replicate the same list n number of times depending upon the input. '*' is a replication operator.\n",
    "\n",
    "for eg:\n",
    "\n",
    "a = [1,4,7,8,9]\n",
    "\n",
    "b = a * 3\n",
    "\n",
    "The above expression will replicate the same list a three times and store the result [1,4,7,8,9,1,4,7,8,9,1,4,7,8,9] in b."
   ]
  },
  {
   "cell_type": "markdown",
   "metadata": {},
   "source": [
    "10. What is difference between the list methods append() and insert()?"
   ]
  },
  {
   "cell_type": "markdown",
   "metadata": {},
   "source": [
    "Both the functions add a new element in the list but the way of working is different for both. Let as consider a list a = [1,4,7,8,9]\n",
    "\n",
    "When we use append function a new element is added at the end of the list without altering the positions of other elements.\n",
    "\n",
    "for eg:\n",
    "\n",
    "a.append(6) will append 6 at the end of list a and the new list will look as [1,4,7,8,9,6].\n",
    "\n",
    "When we use the insert function a new element is added anywhere in the list depending upon the index input by us. Also the positions of the elements present at the index suceeding the input index will be altered.\n",
    "\n",
    "for eg:\n",
    "\n",
    "a.insert(3,6) will insert 6 at the third index and the reulting list will look as [1, 4, 7, 6, 8, 9]."
   ]
  },
  {
   "cell_type": "markdown",
   "metadata": {},
   "source": [
    "11. What are the two methods for removing items from a list?"
   ]
  },
  {
   "cell_type": "markdown",
   "metadata": {},
   "source": [
    "The two methods of removing elements form a list are pop and remove but both work differently. Let as consider a list a = [1,4,7,8,9]\n",
    "\n",
    "The pop method will remove the last element everytime we apply it to a list.\n",
    "\n",
    "for eg :\n",
    "\n",
    "a.pop() will remove the last element from the list and the resulting list will look as [1, 4, 7, 8].\n",
    "\n",
    "The remove method will remove the element specified from the position where it first occurs.\n",
    "\n",
    "for eg:\n",
    "\n",
    "a.remove(7) will remove the first 7 occuring in the list and the new list will look as [1, 4, 8, 9]"
   ]
  },
  {
   "cell_type": "markdown",
   "metadata": {},
   "source": [
    "12. Describe how list values and string values are identical."
   ]
  },
  {
   "cell_type": "markdown",
   "metadata": {},
   "source": [
    "Both List and String are a sequence in phthon language which can be traveresed with an iterator function. Strings are an ordered set of alphabets whereas List are and ordered set of hetrogenous element. In both the cases we can access any element using indexing.\n",
    "\n",
    "for eg:\n",
    "\n",
    "#Defining a list\n",
    "\n",
    "lst = [1, 9.8, 'Devranjan', True]\n",
    "\n",
    "lst[2] will give the 3rd element 'Devranjan'.\n",
    "\n",
    "#Defining a string\n",
    "\n",
    "str = 'Devranjan'\n",
    "\n",
    "str[2] will give the 3rd element in the sequence 'v'.\n",
    "\n",
    "In the above examples we can see that both the entities are a sequence and we can access the individual elements using indexing. Also slicing is possible in both the cases.\n"
   ]
  },
  {
   "cell_type": "markdown",
   "metadata": {},
   "source": [
    "13. What's the difference between tuples and lists?"
   ]
  },
  {
   "cell_type": "markdown",
   "metadata": {},
   "source": [
    "The only difference between tuples and lists is list is mutable whereas tuples are non mutable. We can edit and alter the elements of a list whereas tuple items once defined cannot be altered individually whereas altering the whole tuple is possible. List can be represented by square brackets and tuples can be represented by round brackets."
   ]
  },
  {
   "cell_type": "markdown",
   "metadata": {},
   "source": [
    "14. How do you type a tuple value that only contains the integer 42?"
   ]
  },
  {
   "cell_type": "markdown",
   "metadata": {},
   "source": [
    "We will apply the tuple function over the integer value 42 enclosed in square brackets. Since the tuple function takes only iterable objects and a single integer value is not iterable we enclose the element in square brackets to make it iterable as shown below:"
   ]
  },
  {
   "cell_type": "code",
   "execution_count": 31,
   "metadata": {},
   "outputs": [
    {
     "data": {
      "text/plain": [
       "tuple"
      ]
     },
     "execution_count": 31,
     "metadata": {},
     "output_type": "execute_result"
    }
   ],
   "source": [
    "tup = tuple([42])\n",
    "type(tup)"
   ]
  },
  {
   "cell_type": "markdown",
   "metadata": {},
   "source": [
    "15. How do you get a list value's tuple form? How do you get a tuple value's list form?"
   ]
  },
  {
   "cell_type": "markdown",
   "metadata": {},
   "source": [
    "We will simply apply the tuple function over the list. \n",
    "\n",
    "for eg:\n",
    "\n",
    "a = [1,2,3,6,4]\n",
    "\n",
    "a = tuple(a)\n"
   ]
  },
  {
   "cell_type": "markdown",
   "metadata": {},
   "source": [
    "16. Variables that \"contain\" list values are not necessarily lists themselves. Instead, what do they contain?"
   ]
  },
  {
   "cell_type": "markdown",
   "metadata": {},
   "source": [
    "They can be tuple or dictionary. These data structures dont need to be a list to store a list as an element.\n",
    "\n",
    "for eg:\n",
    "\n",
    "A tuple can contain a list as an element such as t = {[1,2,3,6,4],'dev',5.3}\n",
    "\n",
    "A dictionary can contain a list as an element as dic = {'A':[1,2,3,6,4],'B':'dev','C':5.3}"
   ]
  },
  {
   "cell_type": "markdown",
   "metadata": {},
   "source": [
    "17. How do you distinguish between copy.copy() and copy.deepcopy()?"
   ]
  },
  {
   "cell_type": "markdown",
   "metadata": {},
   "source": [
    "copy.copy() creates a reference of the original object. If we try to change the contents of copied object the same changes will reflect in the original object as the copied object is refering to the original object and both are pointing to the same memory location. It is also known as shallow copy.\n",
    "\n",
    "copy.deepcopy() creates new object and copies the content of tghe original object to a new location. Hence changing the new object doesn't affect original object. It is also known as deep copy.\n",
    "\n",
    "So .copy() creates a reference whereas .deepcopy() creates a copy."
   ]
  }
 ],
 "metadata": {
  "kernelspec": {
   "display_name": "Python 3",
   "language": "python",
   "name": "python3"
  },
  "language_info": {
   "codemirror_mode": {
    "name": "ipython",
    "version": 3
   },
   "file_extension": ".py",
   "mimetype": "text/x-python",
   "name": "python",
   "nbconvert_exporter": "python",
   "pygments_lexer": "ipython3",
   "version": "3.8.5"
  }
 },
 "nbformat": 4,
 "nbformat_minor": 4
}
